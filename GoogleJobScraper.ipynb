{
 "cells": [
  {
   "cell_type": "code",
   "execution_count": 3,
   "id": "18e474a8",
   "metadata": {},
   "outputs": [],
   "source": [
    "from bs4 import BeautifulSoup\n",
    "import pandas as pd\n",
    "import requests"
   ]
  },
  {
   "cell_type": "markdown",
   "id": "250002ec-572c-410a-886e-9bac1f3a6934",
   "metadata": {},
   "source": [
    "Current Goal: Be able to scan the four sections for keywords\n",
    "\n",
    "\n",
    "Eventual goal: be able to take various links and return keywords for each one"
   ]
  },
  {
   "cell_type": "code",
   "execution_count": 2,
   "id": "5065bf86",
   "metadata": {},
   "outputs": [],
   "source": [
    "url = \"https://www.google.com/about/careers/applications/jobs/results/89798273272816326-technical-program-manager-ii-insights-and-analytics-data-centers\""
   ]
  },
  {
   "cell_type": "code",
   "execution_count": 5,
   "id": "6921f52c-6225-4155-91dc-f6d34a79d589",
   "metadata": {},
   "outputs": [
    {
     "data": {
      "text/plain": [
       "200"
      ]
     },
     "execution_count": 5,
     "metadata": {},
     "output_type": "execute_result"
    }
   ],
   "source": [
    "x = requests.get(url)\n",
    "x.status_code"
   ]
  },
  {
   "cell_type": "code",
   "execution_count": null,
   "id": "6081f4b5-4e3b-436d-b576-dc49687dbaa9",
   "metadata": {},
   "outputs": [],
   "source": [
    "soup = BeautifulSoup(x.text, 'html.parser')\n",
    "soup"
   ]
  },
  {
   "cell_type": "code",
   "execution_count": 138,
   "id": "366bba9d-8f55-4388-a3b0-c8a5ea7b08b6",
   "metadata": {},
   "outputs": [],
   "source": [
    "class TextAnalyzer(object):\n",
    "    \n",
    "    def __init__(self,text):\n",
    "        formattedText = text.replace('.','').replace('!','').replace('?','').replace(',','')\n",
    "        formattedText = formattedText.lower()\n",
    "        removeWords = ['is', 'a', 'an', 'or', 'of', 'in','and', 'and/or', 'with', 'to', 'into', 'on', 'for', 'within', 'the']\n",
    "        splitWords = formattedText.split()\n",
    "        resultWords = [word for word in splitWords if word not in removeWords]\n",
    "        formattedText = ' '.join(resultWords)\n",
    "        self.fmtText = formattedText\n",
    "\n",
    "    def freqAll(self):        \n",
    "        # split text into words\n",
    "            words = self.fmtText.split(' ')\n",
    "            freqDict = {}\n",
    "            for word in words:\n",
    "                freqDict[word] = words.count(word)\n",
    "            return freqDict\n",
    "        \n",
    "    def freqOf(self,word):\n",
    "        # get frequency map\n",
    "            freqDict = self.freqAll()\n",
    "            if word in freqDict:\n",
    "                return freqDict[word]\n",
    "            else:\n",
    "                return 0"
   ]
  },
  {
   "cell_type": "code",
   "execution_count": 18,
   "id": "0fc2f8e9-1f0e-41dc-a6bd-744cd02bcd20",
   "metadata": {},
   "outputs": [
    {
     "data": {
      "text/plain": [
       "[<h3>Minimum qualifications:</h3>,\n",
       " <h3>Preferred qualifications:</h3>,\n",
       " <h3>About the job</h3>,\n",
       " <h3>Responsibilities</h3>]"
      ]
     },
     "execution_count": 18,
     "metadata": {},
     "output_type": "execute_result"
    }
   ],
   "source": [
    "#You can narrow down the relevant job information using the query below. There are four sections that you can pull the information from\n",
    "table = soup.find_all('h3', attrs = {'class':None})"
   ]
  },
  {
   "cell_type": "code",
   "execution_count": 98,
   "id": "17c44198-4f00-4890-a660-5ac6ede80aca",
   "metadata": {},
   "outputs": [
    {
     "name": "stdout",
     "output_type": "stream",
     "text": [
      "[\"Bachelor's degree in a technical field, or equivalent practical experience. 2 years of experience in program management. Experience in SQL and data visualization.\", '2 years of experience managing cross-functional and/or cross-team projects. Experience with machine learning data models. Experience in python. Experience with data management in a data center environment.', 'Collaborate with team members and stakeholders to understand or identify defined work problems and program goals, obtain prioritized deliverables, and discuss program impact. Prioritize program goals, understand and translate other stakeholders’ needs into program goals and prioritized deliverables with minimal assistance, and contribute to decisions on prioritizing goals and deliverables. Define the scope of projects and develop, execute, or manage project plans for supported programs. Review key metrics pertaining to a program, monitor potential metric deviations, and define corrective actions for critical deviations. Identify, communicate, and collaborate with relevant stakeholders within one or more teams to drive impact and work toward mutual goals.']\n"
     ]
    }
   ],
   "source": [
    "#This pulls three of those sections which are lists. They are then populated to their respective section\n",
    "blake = soup.find_all('ul', attrs = {'class':None})\n",
    "h3 = [' '.join(i.get_text().strip().split()) for i in blake] # clean text\n",
    "print(h3)"
   ]
  },
  {
   "cell_type": "code",
   "execution_count": 131,
   "id": "7e969dc7-d9bd-4599-8220-7f3c320d29cf",
   "metadata": {},
   "outputs": [
    {
     "name": "stdout",
     "output_type": "stream",
     "text": [
      "bachelor's degree technical field equivalent practical experience 2 years experience program management experience sql data visualization\n"
     ]
    },
    {
     "data": {
      "text/plain": [
       "{\"bachelor's\": 1,\n",
       " 'degree': 1,\n",
       " 'technical': 1,\n",
       " 'field': 1,\n",
       " 'equivalent': 1,\n",
       " 'practical': 1,\n",
       " 'experience': 3,\n",
       " '2': 1,\n",
       " 'years': 1,\n",
       " 'program': 1,\n",
       " 'management': 1,\n",
       " 'sql': 1,\n",
       " 'data': 1,\n",
       " 'visualization': 1}"
      ]
     },
     "execution_count": 131,
     "metadata": {},
     "output_type": "execute_result"
    }
   ],
   "source": [
    "minquals = []\n",
    "minquals = TextAnalyzer(h3[0])\n",
    "print(minquals.fmtText)\n",
    "minquals.freqAll()"
   ]
  },
  {
   "cell_type": "code",
   "execution_count": 136,
   "id": "2c2cbc03-b161-4355-b1e8-7e8a6681ac4a",
   "metadata": {},
   "outputs": [
    {
     "name": "stdout",
     "output_type": "stream",
     "text": [
      "2 years experience managing cross-functional cross-team projects experience machine learning data models experience python experience data management data center environment\n"
     ]
    },
    {
     "data": {
      "text/plain": [
       "{'2': 1,\n",
       " 'years': 1,\n",
       " 'experience': 4,\n",
       " 'managing': 1,\n",
       " 'cross-functional': 1,\n",
       " 'cross-team': 1,\n",
       " 'projects': 1,\n",
       " 'machine': 1,\n",
       " 'learning': 1,\n",
       " 'data': 3,\n",
       " 'models': 1,\n",
       " 'python': 1,\n",
       " 'management': 1,\n",
       " 'center': 1,\n",
       " 'environment': 1}"
      ]
     },
     "execution_count": 136,
     "metadata": {},
     "output_type": "execute_result"
    }
   ],
   "source": [
    "prefquals = TextAnalyzer(h3[1])\n",
    "print(prefquals.fmtText)\n",
    "prefquals.freqAll()"
   ]
  },
  {
   "cell_type": "code",
   "execution_count": 91,
   "id": "02bd07a7-a119-441d-852b-5bffd43720ab",
   "metadata": {},
   "outputs": [
    {
     "ename": "AttributeError",
     "evalue": "ResultSet object has no attribute 'split'. You're probably treating a list of elements like a single element. Did you call find_all() when you meant to call find()?",
     "output_type": "error",
     "traceback": [
      "\u001b[1;31m---------------------------------------------------------------------------\u001b[0m",
      "\u001b[1;31mAttributeError\u001b[0m                            Traceback (most recent call last)",
      "Input \u001b[1;32mIn [91]\u001b[0m, in \u001b[0;36m<cell line: 3>\u001b[1;34m()\u001b[0m\n\u001b[0;32m      1\u001b[0m \u001b[38;5;66;03m#This section is only paragraphs and therefore needs to be queried separately\u001b[39;00m\n\u001b[0;32m      2\u001b[0m aboutjob \u001b[38;5;241m=\u001b[39m soup\u001b[38;5;241m.\u001b[39mfind_all(\u001b[38;5;124m'\u001b[39m\u001b[38;5;124mp\u001b[39m\u001b[38;5;124m'\u001b[39m, attrs \u001b[38;5;241m=\u001b[39m {\u001b[38;5;124m'\u001b[39m\u001b[38;5;124mclass\u001b[39m\u001b[38;5;124m'\u001b[39m:\u001b[38;5;28;01mNone\u001b[39;00m})\n\u001b[1;32m----> 3\u001b[0m \u001b[43maboutjob\u001b[49m\u001b[38;5;241;43m.\u001b[39;49m\u001b[43msplit\u001b[49m()\n",
      "File \u001b[1;32m~\\anaconda3\\lib\\site-packages\\bs4\\element.py:2289\u001b[0m, in \u001b[0;36mResultSet.__getattr__\u001b[1;34m(self, key)\u001b[0m\n\u001b[0;32m   2287\u001b[0m \u001b[38;5;28;01mdef\u001b[39;00m \u001b[38;5;21m__getattr__\u001b[39m(\u001b[38;5;28mself\u001b[39m, key):\n\u001b[0;32m   2288\u001b[0m     \u001b[38;5;124;03m\"\"\"Raise a helpful exception to explain a common code fix.\"\"\"\u001b[39;00m\n\u001b[1;32m-> 2289\u001b[0m     \u001b[38;5;28;01mraise\u001b[39;00m \u001b[38;5;167;01mAttributeError\u001b[39;00m(\n\u001b[0;32m   2290\u001b[0m         \u001b[38;5;124m\"\u001b[39m\u001b[38;5;124mResultSet object has no attribute \u001b[39m\u001b[38;5;124m'\u001b[39m\u001b[38;5;132;01m%s\u001b[39;00m\u001b[38;5;124m'\u001b[39m\u001b[38;5;124m. You\u001b[39m\u001b[38;5;124m'\u001b[39m\u001b[38;5;124mre probably treating a list of elements like a single element. Did you call find_all() when you meant to call find()?\u001b[39m\u001b[38;5;124m\"\u001b[39m \u001b[38;5;241m%\u001b[39m key\n\u001b[0;32m   2291\u001b[0m     )\n",
      "\u001b[1;31mAttributeError\u001b[0m: ResultSet object has no attribute 'split'. You're probably treating a list of elements like a single element. Did you call find_all() when you meant to call find()?"
     ]
    }
   ],
   "source": [
    "#This section is only paragraphs and therefore needs to be queried separately\n",
    "aboutjob = soup.find_all('p', attrs = {'class':None})\n",
    "aboutjob.split()"
   ]
  },
  {
   "cell_type": "code",
   "execution_count": 139,
   "id": "96020ee8-f46b-4ff9-9f86-0f0f1f2c00d0",
   "metadata": {},
   "outputs": [
    {
     "name": "stdout",
     "output_type": "stream",
     "text": [
      "collaborate team members stakeholders understand identify defined work problems program goals obtain prioritized deliverables discuss program impact prioritize program goals understand translate other stakeholders’ needs program goals prioritized deliverables minimal assistance contribute decisions prioritizing goals deliverables define scope projects develop execute manage project plans supported programs review key metrics pertaining program monitor potential metric deviations define corrective actions critical deviations identify communicate collaborate relevant stakeholders one more teams drive impact work toward mutual goals\n"
     ]
    },
    {
     "data": {
      "text/plain": [
       "{'collaborate': 2,\n",
       " 'team': 1,\n",
       " 'members': 1,\n",
       " 'stakeholders': 2,\n",
       " 'understand': 2,\n",
       " 'identify': 2,\n",
       " 'defined': 1,\n",
       " 'work': 2,\n",
       " 'problems': 1,\n",
       " 'program': 5,\n",
       " 'goals': 5,\n",
       " 'obtain': 1,\n",
       " 'prioritized': 2,\n",
       " 'deliverables': 3,\n",
       " 'discuss': 1,\n",
       " 'impact': 2,\n",
       " 'prioritize': 1,\n",
       " 'translate': 1,\n",
       " 'other': 1,\n",
       " 'stakeholders’': 1,\n",
       " 'needs': 1,\n",
       " 'minimal': 1,\n",
       " 'assistance': 1,\n",
       " 'contribute': 1,\n",
       " 'decisions': 1,\n",
       " 'prioritizing': 1,\n",
       " 'define': 2,\n",
       " 'scope': 1,\n",
       " 'projects': 1,\n",
       " 'develop': 1,\n",
       " 'execute': 1,\n",
       " 'manage': 1,\n",
       " 'project': 1,\n",
       " 'plans': 1,\n",
       " 'supported': 1,\n",
       " 'programs': 1,\n",
       " 'review': 1,\n",
       " 'key': 1,\n",
       " 'metrics': 1,\n",
       " 'pertaining': 1,\n",
       " 'monitor': 1,\n",
       " 'potential': 1,\n",
       " 'metric': 1,\n",
       " 'deviations': 2,\n",
       " 'corrective': 1,\n",
       " 'actions': 1,\n",
       " 'critical': 1,\n",
       " 'communicate': 1,\n",
       " 'relevant': 1,\n",
       " 'one': 1,\n",
       " 'more': 1,\n",
       " 'teams': 1,\n",
       " 'drive': 1,\n",
       " 'toward': 1,\n",
       " 'mutual': 1}"
      ]
     },
     "execution_count": 139,
     "metadata": {},
     "output_type": "execute_result"
    }
   ],
   "source": [
    "responsibilities = TextAnalyzer(h3[2])\n",
    "print(responsibilities.fmtText)\n",
    "responsibilities.freqAll()"
   ]
  },
  {
   "cell_type": "code",
   "execution_count": 142,
   "id": "767a8f77-9998-489c-8cbc-ad31d50e0302",
   "metadata": {},
   "outputs": [
    {
     "data": {
      "text/plain": [
       "{'collaborate': 2,\n",
       " 'team': 1,\n",
       " 'members': 1,\n",
       " 'stakeholders': 2,\n",
       " 'understand': 2,\n",
       " 'identify': 2,\n",
       " 'defined': 1,\n",
       " 'work': 2,\n",
       " 'problems': 1,\n",
       " 'program': 6,\n",
       " 'goals': 5,\n",
       " 'obtain': 1,\n",
       " 'prioritized': 2,\n",
       " 'deliverables': 3,\n",
       " 'discuss': 1,\n",
       " 'impact': 2,\n",
       " 'prioritize': 1,\n",
       " 'translate': 1,\n",
       " 'other': 1,\n",
       " 'stakeholders’': 1,\n",
       " 'needs': 1,\n",
       " 'minimal': 1,\n",
       " 'assistance': 1,\n",
       " 'contribute': 1,\n",
       " 'decisions': 1,\n",
       " 'prioritizing': 1,\n",
       " 'define': 2,\n",
       " 'scope': 1,\n",
       " 'projects': 2,\n",
       " 'develop': 1,\n",
       " 'execute': 1,\n",
       " 'manage': 1,\n",
       " 'project': 1,\n",
       " 'plans': 1,\n",
       " 'supported': 1,\n",
       " 'programs': 1,\n",
       " 'review': 1,\n",
       " 'key': 1,\n",
       " 'metrics': 1,\n",
       " 'pertaining': 1,\n",
       " 'monitor': 1,\n",
       " 'potential': 1,\n",
       " 'metric': 1,\n",
       " 'deviations': 2,\n",
       " 'corrective': 1,\n",
       " 'actions': 1,\n",
       " 'critical': 1,\n",
       " 'communicate': 1,\n",
       " 'relevant': 1,\n",
       " 'one': 1,\n",
       " 'more': 1,\n",
       " 'teams': 1,\n",
       " 'drive': 1,\n",
       " 'toward': 1,\n",
       " 'mutual': 1,\n",
       " '2': 2,\n",
       " 'years': 2,\n",
       " 'experience': 7,\n",
       " 'managing': 1,\n",
       " 'cross-functional': 1,\n",
       " 'cross-team': 1,\n",
       " 'machine': 1,\n",
       " 'learning': 1,\n",
       " 'data': 4,\n",
       " 'models': 1,\n",
       " 'python': 1,\n",
       " 'management': 2,\n",
       " 'center': 1,\n",
       " 'environment': 1,\n",
       " \"bachelor's\": 1,\n",
       " 'degree': 1,\n",
       " 'technical': 1,\n",
       " 'field': 1,\n",
       " 'equivalent': 1,\n",
       " 'practical': 1,\n",
       " 'sql': 1,\n",
       " 'visualization': 1}"
      ]
     },
     "execution_count": 142,
     "metadata": {},
     "output_type": "execute_result"
    }
   ],
   "source": [
    "combo = TextAnalyzer(responsibilities.fmtText + ' ' + prefquals.fmtText + ' ' + minquals.fmtText)\n",
    "combo.freqAll()"
   ]
  }
 ],
 "metadata": {
  "kernelspec": {
   "display_name": "Python 3 (ipykernel)",
   "language": "python",
   "name": "python3"
  },
  "language_info": {
   "codemirror_mode": {
    "name": "ipython",
    "version": 3
   },
   "file_extension": ".py",
   "mimetype": "text/x-python",
   "name": "python",
   "nbconvert_exporter": "python",
   "pygments_lexer": "ipython3",
   "version": "3.9.13"
  }
 },
 "nbformat": 4,
 "nbformat_minor": 5
}
